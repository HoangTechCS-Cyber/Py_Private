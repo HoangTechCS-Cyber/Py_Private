{
 "cells": [
  {
   "cell_type": "code",
   "execution_count": null,
   "metadata": {},
   "outputs": [],
   "source": [
    "# Câu 1: Python có thể làm được gì?\n",
    "# Trả lời:\n",
    "# -\tPhát triển web: sử dụng một số famework như Django, Flask để xây dựng ứng dụng web\n",
    "# -\tKhoa học dữ liệu: Py có một số thư viện như Pandas, NumPy, và Matplotlib để xử lý trực quan hóa dữ liệu\n",
    "# -\tAI và Mechine Learning: thư viện TensorFlow, Keras, Scikit-learn \n",
    "# -\tTự động hóa\n",
    "# -\tPhát triển game: một số trò đơn giản\n",
    "# -\tỨng dụng desktop: Tạo giao diện đồ họa cho desktop\n",
    "# -\tPhát triển phần mềm nhúng \n",
    "\n"
   ]
  },
  {
   "cell_type": "code",
   "execution_count": 1,
   "metadata": {},
   "outputs": [],
   "source": [
    "# Câu 2: So sánh Python với C++\n",
    "# ==:\n",
    "#     -Đều là ngôn ngữ lập trình bậc cao\n",
    "#     -Có nhiều thư viện có sẵn hỗ trợ \n",
    "# !=:\n",
    "#     - Py là ngôn ngữ thông dịch còn C++ là biên dịch"
   ]
  },
  {
   "cell_type": "code",
   "execution_count": null,
   "metadata": {},
   "outputs": [],
   "source": [
    "# Câu 3: Py là ngôn ngữ thông dịch hay biên dịch?Vì sao?\n",
    "# Rep: Py là ngôn ngữ thông dịch.\n",
    "#     - Ngôn ngữ thông dịch là mã nguồn sẽ được đọc và thực thi từng dòng lệnh."
   ]
  },
  {
   "cell_type": "code",
   "execution_count": null,
   "metadata": {},
   "outputs": [],
   "source": [
    "# Câu 5:\n",
    "# - Khai báo biến bằng cách dùng cú pháp \"tên biến = giá trị\"\n",
    "a = 1\n",
    "b = 2\n",
    "name = \"Nguyen Huy Hoang\"\n",
    "\n",
    "# - Các toán tử:\n",
    "#     + Toán tử số học: //, +, -, *, /, %, **\n",
    "c = a // b \n",
    "c = a + b\n",
    "...\n",
    "#     + Toán tử quan hệ: <, >, <=, >=, ==, !=, <>\n",
    "a > b\n",
    "a != b\n",
    "...\n",
    "#     + Toán tử gán: =, /=, +=, -=, *=, %=, **=, //=\n",
    "a = b\n",
    "a += b\n",
    "...\n",
    "#     + Toán tử logic: and, or, not\n",
    "a and b\n",
    "a or b\n",
    "...\n",
    "#     + Toán tử thao tác bit: &, |, ^, <<, >>, ~\n",
    "a >> b\n",
    "a ^ b\n",
    "...\n",
    "#     + Toán tử membership: in, not in\n",
    "a in b\n",
    "a not in b\n",
    "#     + Toán tử identify: is, is not\n",
    "a is b\n",
    "a is not b\n",
    "###################################################################\n",
    "d = 1\n",
    "e = 1.1\n",
    "f = [1,2,3]\n",
    "g = True\n",
    "j = {\n",
    "    \"name\" : \"Huy Hoang\",\n",
    "    \"age\" : 19,\n",
    "    \"male\" : True\n",
    "}\n",
    "k = ('Huy Hoang', 19, 'male')"
   ]
  }
 ],
 "metadata": {
  "kernelspec": {
   "display_name": "Python 3",
   "language": "python",
   "name": "python3"
  },
  "language_info": {
   "codemirror_mode": {
    "name": "ipython",
    "version": 3
   },
   "file_extension": ".py",
   "mimetype": "text/x-python",
   "name": "python",
   "nbconvert_exporter": "python",
   "pygments_lexer": "ipython3",
   "version": "3.12.4"
  }
 },
 "nbformat": 4,
 "nbformat_minor": 2
}
